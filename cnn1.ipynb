{
 "cells": [
  {
   "cell_type": "markdown",
   "metadata": {},
   "source": [
    "## Raw Convolutional Neural Network on Tensorflow"
   ]
  },
  {
   "cell_type": "code",
   "execution_count": 1,
   "metadata": {},
   "outputs": [],
   "source": [
    "\n",
    "import numpy as np\n",
    "import pandas as pd\n",
    "import tensorflow as tf\n",
    "from matplotlib import pyplot as plt\n",
    "from sklearn.model_selection import train_test_split\n",
    "from sklearn.preprocessing import MinMaxScaler"
   ]
  },
  {
   "cell_type": "code",
   "execution_count": 2,
   "metadata": {},
   "outputs": [],
   "source": [
    "# load mnist dataset\n",
    "train_data = pd.read_csv('data/mnist_train.csv')\n",
    "test_data = pd.read_csv('data/mnist_test.csv')"
   ]
  },
  {
   "cell_type": "code",
   "execution_count": 3,
   "metadata": {},
   "outputs": [
    {
     "data": {
      "text/html": [
       "<div>\n",
       "<style scoped>\n",
       "    .dataframe tbody tr th:only-of-type {\n",
       "        vertical-align: middle;\n",
       "    }\n",
       "\n",
       "    .dataframe tbody tr th {\n",
       "        vertical-align: top;\n",
       "    }\n",
       "\n",
       "    .dataframe thead th {\n",
       "        text-align: right;\n",
       "    }\n",
       "</style>\n",
       "<table border=\"1\" class=\"dataframe\">\n",
       "  <thead>\n",
       "    <tr style=\"text-align: right;\">\n",
       "      <th></th>\n",
       "      <th>1x1</th>\n",
       "      <th>1x2</th>\n",
       "      <th>1x3</th>\n",
       "      <th>1x4</th>\n",
       "      <th>1x5</th>\n",
       "      <th>1x6</th>\n",
       "      <th>1x7</th>\n",
       "      <th>1x8</th>\n",
       "      <th>1x9</th>\n",
       "      <th>1x10</th>\n",
       "      <th>...</th>\n",
       "      <th>28x19</th>\n",
       "      <th>28x20</th>\n",
       "      <th>28x21</th>\n",
       "      <th>28x22</th>\n",
       "      <th>28x23</th>\n",
       "      <th>28x24</th>\n",
       "      <th>28x25</th>\n",
       "      <th>28x26</th>\n",
       "      <th>28x27</th>\n",
       "      <th>28x28</th>\n",
       "    </tr>\n",
       "  </thead>\n",
       "  <tbody>\n",
       "    <tr>\n",
       "      <th>0</th>\n",
       "      <td>0</td>\n",
       "      <td>0</td>\n",
       "      <td>0</td>\n",
       "      <td>0</td>\n",
       "      <td>0</td>\n",
       "      <td>0</td>\n",
       "      <td>0</td>\n",
       "      <td>0</td>\n",
       "      <td>0</td>\n",
       "      <td>0</td>\n",
       "      <td>...</td>\n",
       "      <td>0</td>\n",
       "      <td>0</td>\n",
       "      <td>0</td>\n",
       "      <td>0</td>\n",
       "      <td>0</td>\n",
       "      <td>0</td>\n",
       "      <td>0</td>\n",
       "      <td>0</td>\n",
       "      <td>0</td>\n",
       "      <td>0</td>\n",
       "    </tr>\n",
       "    <tr>\n",
       "      <th>1</th>\n",
       "      <td>0</td>\n",
       "      <td>0</td>\n",
       "      <td>0</td>\n",
       "      <td>0</td>\n",
       "      <td>0</td>\n",
       "      <td>0</td>\n",
       "      <td>0</td>\n",
       "      <td>0</td>\n",
       "      <td>0</td>\n",
       "      <td>0</td>\n",
       "      <td>...</td>\n",
       "      <td>0</td>\n",
       "      <td>0</td>\n",
       "      <td>0</td>\n",
       "      <td>0</td>\n",
       "      <td>0</td>\n",
       "      <td>0</td>\n",
       "      <td>0</td>\n",
       "      <td>0</td>\n",
       "      <td>0</td>\n",
       "      <td>0</td>\n",
       "    </tr>\n",
       "    <tr>\n",
       "      <th>2</th>\n",
       "      <td>0</td>\n",
       "      <td>0</td>\n",
       "      <td>0</td>\n",
       "      <td>0</td>\n",
       "      <td>0</td>\n",
       "      <td>0</td>\n",
       "      <td>0</td>\n",
       "      <td>0</td>\n",
       "      <td>0</td>\n",
       "      <td>0</td>\n",
       "      <td>...</td>\n",
       "      <td>0</td>\n",
       "      <td>0</td>\n",
       "      <td>0</td>\n",
       "      <td>0</td>\n",
       "      <td>0</td>\n",
       "      <td>0</td>\n",
       "      <td>0</td>\n",
       "      <td>0</td>\n",
       "      <td>0</td>\n",
       "      <td>0</td>\n",
       "    </tr>\n",
       "    <tr>\n",
       "      <th>3</th>\n",
       "      <td>0</td>\n",
       "      <td>0</td>\n",
       "      <td>0</td>\n",
       "      <td>0</td>\n",
       "      <td>0</td>\n",
       "      <td>0</td>\n",
       "      <td>0</td>\n",
       "      <td>0</td>\n",
       "      <td>0</td>\n",
       "      <td>0</td>\n",
       "      <td>...</td>\n",
       "      <td>0</td>\n",
       "      <td>0</td>\n",
       "      <td>0</td>\n",
       "      <td>0</td>\n",
       "      <td>0</td>\n",
       "      <td>0</td>\n",
       "      <td>0</td>\n",
       "      <td>0</td>\n",
       "      <td>0</td>\n",
       "      <td>0</td>\n",
       "    </tr>\n",
       "    <tr>\n",
       "      <th>4</th>\n",
       "      <td>0</td>\n",
       "      <td>0</td>\n",
       "      <td>0</td>\n",
       "      <td>0</td>\n",
       "      <td>0</td>\n",
       "      <td>0</td>\n",
       "      <td>0</td>\n",
       "      <td>0</td>\n",
       "      <td>0</td>\n",
       "      <td>0</td>\n",
       "      <td>...</td>\n",
       "      <td>0</td>\n",
       "      <td>0</td>\n",
       "      <td>0</td>\n",
       "      <td>0</td>\n",
       "      <td>0</td>\n",
       "      <td>0</td>\n",
       "      <td>0</td>\n",
       "      <td>0</td>\n",
       "      <td>0</td>\n",
       "      <td>0</td>\n",
       "    </tr>\n",
       "  </tbody>\n",
       "</table>\n",
       "<p>5 rows × 784 columns</p>\n",
       "</div>"
      ],
      "text/plain": [
       "   1x1  1x2  1x3  1x4  1x5  1x6  1x7  1x8  1x9  1x10  ...  28x19  28x20  \\\n",
       "0    0    0    0    0    0    0    0    0    0     0  ...      0      0   \n",
       "1    0    0    0    0    0    0    0    0    0     0  ...      0      0   \n",
       "2    0    0    0    0    0    0    0    0    0     0  ...      0      0   \n",
       "3    0    0    0    0    0    0    0    0    0     0  ...      0      0   \n",
       "4    0    0    0    0    0    0    0    0    0     0  ...      0      0   \n",
       "\n",
       "   28x21  28x22  28x23  28x24  28x25  28x26  28x27  28x28  \n",
       "0      0      0      0      0      0      0      0      0  \n",
       "1      0      0      0      0      0      0      0      0  \n",
       "2      0      0      0      0      0      0      0      0  \n",
       "3      0      0      0      0      0      0      0      0  \n",
       "4      0      0      0      0      0      0      0      0  \n",
       "\n",
       "[5 rows x 784 columns]"
      ]
     },
     "execution_count": 3,
     "metadata": {},
     "output_type": "execute_result"
    }
   ],
   "source": [
    "X = train_data.drop(columns=['label'])\n",
    "Y = train_data['label']\n",
    "X.head()"
   ]
  },
  {
   "cell_type": "code",
   "execution_count": 4,
   "metadata": {},
   "outputs": [],
   "source": [
    "# split train and test data\n",
    "x_train, x_test, y_train, y_test = train_test_split(X, Y, test_size=0.3, random_state=42)\n",
    "\n",
    "#convert labels as int\n",
    "y_train  = y_train.astype(int)\n",
    "y_test  = y_test.astype(int)"
   ]
  },
  {
   "cell_type": "code",
   "execution_count": 5,
   "metadata": {},
   "outputs": [],
   "source": [
    "def dense_to_one_hot(labels_dense, num_classes=10):\n",
    "    \"\"\"Convert class labels from scalars to one-hot vectors\"\"\"\n",
    "    num_labels = labels_dense.shape[0]\n",
    "    index_offset = np.arange(num_labels) * num_classes\n",
    "    labels_one_hot = np.zeros((num_labels, num_classes))\n",
    "    labels_one_hot.flat[index_offset + labels_dense.ravel()] = 1\n",
    "    return labels_one_hot\n",
    "    \n",
    "# one hot encode y values\n",
    "y_train = np.array(y_train)\n",
    "y_train = dense_to_one_hot(y_train)\n",
    "y_test = np.array(y_test)\n",
    "y_test = dense_to_one_hot(y_test)\n",
    "\n",
    "x_train = np.array(x_train)\n",
    "x_test = np.array(x_test)"
   ]
  },
  {
   "cell_type": "code",
   "execution_count": 6,
   "metadata": {},
   "outputs": [
    {
     "data": {
      "image/png": "[encoded data removed]",
      "text/plain": [
       "<Figure size 432x288 with 1 Axes>"
      ]
     },
     "metadata": {
      "needs_background": "light"
     },
     "output_type": "display_data"
    },
    {
     "data": {
      "image/png": "[encoded data removed]",
      "text/plain": [
       "<Figure size 432x288 with 1 Axes>"
      ]
     },
     "metadata": {
      "needs_background": "light"
     },
     "output_type": "display_data"
    },
    {
     "data": {
      "image/png": "[encoded data removed]",
      "text/plain": [
       "<Figure size 432x288 with 1 Axes>"
      ]
     },
     "metadata": {
      "needs_background": "light"
     },
     "output_type": "display_data"
    }
   ],
   "source": [
    "#test show images\n",
    "# img size: 28x28\n",
    "x_np = np.array(X)\n",
    "for i in range(0,3):\n",
    "    img_test = x_np[i].reshape(28,28)\n",
    "    plt.imshow(img_test)\n",
    "    plt.show()"
   ]
  },
  {
   "cell_type": "code",
   "execution_count": 36,
   "metadata": {},
   "outputs": [],
   "source": [
    "# define hyper parameters\n",
    "learning_rate = 0.001\n",
    "epochs = 10\n",
    "\n",
    "input_size = x_np.shape[1]\n",
    "output_size = y_train.shape[1]\n",
    "batch_size = 128\n",
    "\n",
    "total_batch = int(len(x_train) / batch_size)\n",
    "\n",
    "x_place = tf.placeholder(\"float\", [None, input_size])\n",
    "y_place = tf.placeholder(\"float\", [None, output_size])\n",
    "drop_place = tf.placeholder(tf.float32) # dropout (keep probability)"
   ]
  },
  {
   "cell_type": "code",
   "execution_count": 37,
   "metadata": {},
   "outputs": [],
   "source": [
    "#define weights and biases\n",
    "wc1 = tf.Variable(tf.random.normal([5,5,1,32]))\n",
    "wc2 = tf.Variable(tf.random.normal([5,5,32,64]))\n",
    "wd1 = tf.Variable(tf.random.normal([7*7*64, 1024]))\n",
    "ow = tf.Variable(tf.random.normal([1024,output_size]))\n",
    "\n",
    "bc1 = tf.Variable(tf.random.normal([32]))\n",
    "bc2 = tf.Variable(tf.random.normal([64]))\n",
    "bd1 = tf.Variable(tf.random.normal([1024]))\n",
    "ob = tf.Variable(tf.random.normal([output_size]))"
   ]
  },
  {
   "cell_type": "code",
   "execution_count": 38,
   "metadata": {},
   "outputs": [],
   "source": [
    "# create conv net\n",
    "def conv2d(x,w,b,strides=1):\n",
    "    conv = tf.nn.conv2d(x,w,strides=[1,strides,strides,1],padding='SAME')\n",
    "    conv = tf.nn.bias_add(conv,b)\n",
    "    acti = tf.nn.relu(conv) # apply acti\n",
    "    return acti\n",
    "\n",
    "def pool2d(x,k=2):\n",
    "    pool = tf.nn.max_pool(x,ksize=[1,k,k,1],strides=[1,k,k,1],padding='SAME')\n",
    "    return pool\n",
    "\n",
    "def fc_layer(x,w,b,softmax=False):\n",
    "    z = tf.add(tf.matmul(x,w),b)\n",
    "    if softmax == False:\n",
    "        a = tf.nn.relu(z)\n",
    "    else:\n",
    "        a = tf.nn.softmax(z)\n",
    "    return a\n",
    "    \n",
    "x_input = tf.reshape(x_place,shape=[-1, 28, 28, 1])\n",
    "#layer 1\n",
    "conv1 = conv2d(x_input,wc1,bc1)\n",
    "pool1 = pool2d(conv1,k=2)\n",
    "#layer 2\n",
    "conv2 = conv2d(pool1,wc2,bc2)\n",
    "pool2 = pool2d(conv2,k=2)\n",
    "\n",
    "#layer 3\n",
    "dense1 = tf.reshape(pool2,shape=[-1,7*7*64])\n",
    "fc1 = fc_layer(dense1,wd1,bd1)\n",
    "fc1 = tf.nn.dropout(fc1, drop_place)\n",
    "logit = tf.add(tf.matmul(fc1,ow),ob)"
   ]
  },
  {
   "cell_type": "code",
   "execution_count": 39,
   "metadata": {},
   "outputs": [
    {
     "name": "stdout",
     "output_type": "stream",
     "text": [
      "Epoch: 1 / Loss: 1746112.7460937486 / Accuracy: 0.7653868140243897\n",
      "Epoch: 2 / Loss: 265842.9989281633 / Accuracy: 0.915991806402439\n",
      "Epoch: 3 / Loss: 146405.60358708067 / Accuracy: 0.9405487804878032\n",
      "Epoch: 4 / Loss: 91829.37494491947 / Accuracy: 0.9526486280487799\n",
      "Epoch: 5 / Loss: 65718.51437154632 / Accuracy: 0.9607707698170725\n",
      "Epoch: 6 / Loss: 49745.541542611485 / Accuracy: 0.9653915777439018\n",
      "Epoch: 7 / Loss: 39097.90583019721 / Accuracy: 0.9702982088414637\n",
      "Epoch: 8 / Loss: 29597.186099168743 / Accuracy: 0.9736328124999993\n",
      "Epoch: 9 / Loss: 22039.230589331648 / Accuracy: 0.9778963414634161\n",
      "Epoch: 10 / Loss: 17965.011575838405 / Accuracy: 0.9802067454268298\n"
     ]
    }
   ],
   "source": [
    "# train neural network\n",
    "loss = tf.reduce_mean(tf.nn.softmax_cross_entropy_with_logits(logits=logit,labels=y_place)) #compute loss\n",
    "optimizer = tf.train.AdamOptimizer(learning_rate=learning_rate) #create optimizer\n",
    "train_opti = optimizer.minimize(loss)\n",
    "#compute accuracy\n",
    "pred = tf.nn.softmax(logit)\n",
    "correct_pred = tf.equal(tf.argmax(pred, 1), tf.argmax(y_place, 1))\n",
    "accuracy = tf.reduce_mean(tf.cast(correct_pred, tf.float32))\n",
    "\n",
    "# train neural network\n",
    "init = tf.global_variables_initializer() #initialize all tf variables \n",
    "sess = tf.Session()\n",
    "sess.run(init)\n",
    "for e in range(epochs):\n",
    "    avg_cost = 0\n",
    "    avg_acc = 0\n",
    "    #train per batch data\n",
    "    for i in range(1,total_batch+1):\n",
    "        #create training data batches\n",
    "        batch_start = i *batch_size\n",
    "        batch_end = batch_start + batch_size\n",
    "        if batch_end > x_train.shape[0]:\n",
    "            batch_end = x_train.shape[0]\n",
    "        batch_x,batch_y = x_train[batch_start:batch_end,:],y_train[batch_start:batch_end,:]\n",
    "        #train neural net\n",
    "        _,loss_val,acc = sess.run([train_opti,loss,accuracy], feed_dict={x_place: batch_x, y_place: batch_y,\n",
    "                                                                        drop_place:0.75})\n",
    "        avg_cost += loss_val /total_batch\n",
    "        avg_acc += acc /total_batch\n",
    "    print(f\"Epoch: {e+1} / Loss: {avg_cost} / Accuracy: {avg_acc}\") \n",
    "    \n",
    "sess.close()"
   ]
  },
  {
   "cell_type": "code",
   "execution_count": null,
   "metadata": {},
   "outputs": [],
   "source": []
  }
 ],
 "metadata": {
  "kernelspec": {
   "display_name": "Python [conda env:root] *",
   "language": "python",
   "name": "conda-root-py"
  },
  "language_info": {
   "codemirror_mode": {
    "name": "ipython",
    "version": 3
   },
   "file_extension": ".py",
   "mimetype": "text/x-python",
   "name": "python",
   "nbconvert_exporter": "python",
   "pygments_lexer": "ipython3",
   "version": "3.7.3"
  }
 },
 "nbformat": 4,
 "nbformat_minor": 2
}
